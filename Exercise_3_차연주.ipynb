{
 "cells": [
  {
   "cell_type": "code",
   "execution_count": 1,
   "metadata": {},
   "outputs": [],
   "source": [
    "import numpy as np\n",
    "import pandas as pd\n",
    "import matplotlib.pyplot as plt\n",
    "import seaborn as sns"
   ]
  },
  {
   "cell_type": "markdown",
   "metadata": {},
   "source": [
    "## 1 따릉이 데이터 중 서울특별시 공공자전거 이용정보(일별) 2021년 01월 자료를 이용한다. \n",
    "-  다운로드 받은 파일명 :공공자전거 이용정보(일별)_2021.01.csv (47.7 MB)\n",
    "-  저장한 파일명 :bikeusage_202101.csv"
   ]
  },
  {
   "cell_type": "code",
   "execution_count": 2,
   "metadata": {
    "scrolled": true
   },
   "outputs": [],
   "source": [
    "# 대여일자는 날자형으로 변환하여 읽어들인다. \n",
    "bikeusage = pd.read_csv('data/bikeusage_202101.csv', encoding = 'cp949', parse_dates = ['대여일자'])\n"
   ]
  },
  {
   "cell_type": "code",
   "execution_count": 3,
   "metadata": {},
   "outputs": [
    {
     "data": {
      "text/html": [
       "<div>\n",
       "<style scoped>\n",
       "    .dataframe tbody tr th:only-of-type {\n",
       "        vertical-align: middle;\n",
       "    }\n",
       "\n",
       "    .dataframe tbody tr th {\n",
       "        vertical-align: top;\n",
       "    }\n",
       "\n",
       "    .dataframe thead th {\n",
       "        text-align: right;\n",
       "    }\n",
       "</style>\n",
       "<table border=\"1\" class=\"dataframe\">\n",
       "  <thead>\n",
       "    <tr style=\"text-align: right;\">\n",
       "      <th></th>\n",
       "      <th>대여일자</th>\n",
       "      <th>대여소번호</th>\n",
       "      <th>대여소</th>\n",
       "      <th>대여구분코드</th>\n",
       "      <th>성별</th>\n",
       "      <th>연령대코드</th>\n",
       "      <th>이용건수</th>\n",
       "      <th>운동량</th>\n",
       "      <th>탄소량</th>\n",
       "      <th>이동거리(M)</th>\n",
       "      <th>이용시간(분)</th>\n",
       "    </tr>\n",
       "  </thead>\n",
       "  <tbody>\n",
       "    <tr>\n",
       "      <th>0</th>\n",
       "      <td>2021-01-01</td>\n",
       "      <td>101</td>\n",
       "      <td>101. (구)합정동 주민센터</td>\n",
       "      <td>일일(회원)</td>\n",
       "      <td>\\N</td>\n",
       "      <td>AGE_002</td>\n",
       "      <td>1</td>\n",
       "      <td>0.00</td>\n",
       "      <td>0.00</td>\n",
       "      <td>0.00</td>\n",
       "      <td>46</td>\n",
       "    </tr>\n",
       "    <tr>\n",
       "      <th>1</th>\n",
       "      <td>2021-01-01</td>\n",
       "      <td>101</td>\n",
       "      <td>101. (구)합정동 주민센터</td>\n",
       "      <td>일일(회원)</td>\n",
       "      <td>M</td>\n",
       "      <td>AGE_002</td>\n",
       "      <td>1</td>\n",
       "      <td>0.00</td>\n",
       "      <td>0.00</td>\n",
       "      <td>0.00</td>\n",
       "      <td>48</td>\n",
       "    </tr>\n",
       "    <tr>\n",
       "      <th>2</th>\n",
       "      <td>2021-01-01</td>\n",
       "      <td>101</td>\n",
       "      <td>101. (구)합정동 주민센터</td>\n",
       "      <td>정기</td>\n",
       "      <td>\\N</td>\n",
       "      <td>AGE_002</td>\n",
       "      <td>1</td>\n",
       "      <td>0.00</td>\n",
       "      <td>0.00</td>\n",
       "      <td>0.00</td>\n",
       "      <td>31</td>\n",
       "    </tr>\n",
       "    <tr>\n",
       "      <th>3</th>\n",
       "      <td>2021-01-01</td>\n",
       "      <td>101</td>\n",
       "      <td>101. (구)합정동 주민센터</td>\n",
       "      <td>정기</td>\n",
       "      <td>\\N</td>\n",
       "      <td>AGE_005</td>\n",
       "      <td>1</td>\n",
       "      <td>0.00</td>\n",
       "      <td>0.00</td>\n",
       "      <td>0.00</td>\n",
       "      <td>30</td>\n",
       "    </tr>\n",
       "    <tr>\n",
       "      <th>4</th>\n",
       "      <td>2021-01-01</td>\n",
       "      <td>101</td>\n",
       "      <td>101. (구)합정동 주민센터</td>\n",
       "      <td>정기</td>\n",
       "      <td>F</td>\n",
       "      <td>AGE_003</td>\n",
       "      <td>1</td>\n",
       "      <td>0.00</td>\n",
       "      <td>0.00</td>\n",
       "      <td>0.00</td>\n",
       "      <td>78</td>\n",
       "    </tr>\n",
       "    <tr>\n",
       "      <th>...</th>\n",
       "      <td>...</td>\n",
       "      <td>...</td>\n",
       "      <td>...</td>\n",
       "      <td>...</td>\n",
       "      <td>...</td>\n",
       "      <td>...</td>\n",
       "      <td>...</td>\n",
       "      <td>...</td>\n",
       "      <td>...</td>\n",
       "      <td>...</td>\n",
       "      <td>...</td>\n",
       "    </tr>\n",
       "    <tr>\n",
       "      <th>474626</th>\n",
       "      <td>2021-01-31</td>\n",
       "      <td>3587</td>\n",
       "      <td>3587.우성식품 앞</td>\n",
       "      <td>정기</td>\n",
       "      <td>F</td>\n",
       "      <td>AGE_003</td>\n",
       "      <td>2</td>\n",
       "      <td>42.03</td>\n",
       "      <td>0.40</td>\n",
       "      <td>1746.75</td>\n",
       "      <td>77</td>\n",
       "    </tr>\n",
       "    <tr>\n",
       "      <th>474627</th>\n",
       "      <td>2021-01-31</td>\n",
       "      <td>3587</td>\n",
       "      <td>3587.우성식품 앞</td>\n",
       "      <td>정기</td>\n",
       "      <td>M</td>\n",
       "      <td>AGE_005</td>\n",
       "      <td>1</td>\n",
       "      <td>129.34</td>\n",
       "      <td>1.11</td>\n",
       "      <td>4803.09</td>\n",
       "      <td>41</td>\n",
       "    </tr>\n",
       "    <tr>\n",
       "      <th>474628</th>\n",
       "      <td>2021-01-31</td>\n",
       "      <td>3588</td>\n",
       "      <td>3588.세종대학교(영실관)</td>\n",
       "      <td>정기</td>\n",
       "      <td>M</td>\n",
       "      <td>AGE_002</td>\n",
       "      <td>2</td>\n",
       "      <td>33.56</td>\n",
       "      <td>0.28</td>\n",
       "      <td>1210.58</td>\n",
       "      <td>11</td>\n",
       "    </tr>\n",
       "    <tr>\n",
       "      <th>474629</th>\n",
       "      <td>2021-01-31</td>\n",
       "      <td>3588</td>\n",
       "      <td>3588.세종대학교(영실관)</td>\n",
       "      <td>정기</td>\n",
       "      <td>M</td>\n",
       "      <td>AGE_003</td>\n",
       "      <td>2</td>\n",
       "      <td>25.68</td>\n",
       "      <td>0.25</td>\n",
       "      <td>1080.61</td>\n",
       "      <td>11</td>\n",
       "    </tr>\n",
       "    <tr>\n",
       "      <th>474630</th>\n",
       "      <td>2021-01-31</td>\n",
       "      <td>9999</td>\n",
       "      <td>시스템관리팀</td>\n",
       "      <td>단체</td>\n",
       "      <td>\\N</td>\n",
       "      <td>AGE_004</td>\n",
       "      <td>2</td>\n",
       "      <td>201.48</td>\n",
       "      <td>1.48</td>\n",
       "      <td>6360.00</td>\n",
       "      <td>83</td>\n",
       "    </tr>\n",
       "  </tbody>\n",
       "</table>\n",
       "<p>474631 rows × 11 columns</p>\n",
       "</div>"
      ],
      "text/plain": [
       "             대여일자  대여소번호               대여소  대여구분코드  성별    연령대코드  이용건수     운동량  \\\n",
       "0      2021-01-01    101  101. (구)합정동 주민센터  일일(회원)  \\N  AGE_002     1    0.00   \n",
       "1      2021-01-01    101  101. (구)합정동 주민센터  일일(회원)   M  AGE_002     1    0.00   \n",
       "2      2021-01-01    101  101. (구)합정동 주민센터      정기  \\N  AGE_002     1    0.00   \n",
       "3      2021-01-01    101  101. (구)합정동 주민센터      정기  \\N  AGE_005     1    0.00   \n",
       "4      2021-01-01    101  101. (구)합정동 주민센터      정기   F  AGE_003     1    0.00   \n",
       "...           ...    ...               ...     ...  ..      ...   ...     ...   \n",
       "474626 2021-01-31   3587       3587.우성식품 앞      정기   F  AGE_003     2   42.03   \n",
       "474627 2021-01-31   3587       3587.우성식품 앞      정기   M  AGE_005     1  129.34   \n",
       "474628 2021-01-31   3588   3588.세종대학교(영실관)      정기   M  AGE_002     2   33.56   \n",
       "474629 2021-01-31   3588   3588.세종대학교(영실관)      정기   M  AGE_003     2   25.68   \n",
       "474630 2021-01-31   9999            시스템관리팀      단체  \\N  AGE_004     2  201.48   \n",
       "\n",
       "         탄소량  이동거리(M)  이용시간(분)  \n",
       "0       0.00     0.00       46  \n",
       "1       0.00     0.00       48  \n",
       "2       0.00     0.00       31  \n",
       "3       0.00     0.00       30  \n",
       "4       0.00     0.00       78  \n",
       "...      ...      ...      ...  \n",
       "474626  0.40  1746.75       77  \n",
       "474627  1.11  4803.09       41  \n",
       "474628  0.28  1210.58       11  \n",
       "474629  0.25  1080.61       11  \n",
       "474630  1.48  6360.00       83  \n",
       "\n",
       "[474631 rows x 11 columns]"
      ]
     },
     "execution_count": 3,
     "metadata": {},
     "output_type": "execute_result"
    }
   ],
   "source": [
    "bikeusage"
   ]
  },
  {
   "cell_type": "markdown",
   "metadata": {},
   "source": [
    "## 2. 다음의 순서로 초기 데이터 점검 (분석루틴)을 수행하여 정돈한다. "
   ]
  },
  {
   "cell_type": "code",
   "execution_count": 4,
   "metadata": {},
   "outputs": [
    {
     "data": {
      "text/html": [
       "<div>\n",
       "<style scoped>\n",
       "    .dataframe tbody tr th:only-of-type {\n",
       "        vertical-align: middle;\n",
       "    }\n",
       "\n",
       "    .dataframe tbody tr th {\n",
       "        vertical-align: top;\n",
       "    }\n",
       "\n",
       "    .dataframe thead th {\n",
       "        text-align: right;\n",
       "    }\n",
       "</style>\n",
       "<table border=\"1\" class=\"dataframe\">\n",
       "  <thead>\n",
       "    <tr style=\"text-align: right;\">\n",
       "      <th></th>\n",
       "      <th>대여일자</th>\n",
       "      <th>대여소번호</th>\n",
       "      <th>대여소</th>\n",
       "      <th>대여구분코드</th>\n",
       "      <th>성별</th>\n",
       "      <th>연령대코드</th>\n",
       "      <th>이용건수</th>\n",
       "      <th>운동량</th>\n",
       "      <th>탄소량</th>\n",
       "      <th>이동거리(M)</th>\n",
       "      <th>이용시간(분)</th>\n",
       "    </tr>\n",
       "  </thead>\n",
       "  <tbody>\n",
       "    <tr>\n",
       "      <th>0</th>\n",
       "      <td>2021-01-01</td>\n",
       "      <td>101</td>\n",
       "      <td>101. (구)합정동 주민센터</td>\n",
       "      <td>일일(회원)</td>\n",
       "      <td>\\N</td>\n",
       "      <td>AGE_002</td>\n",
       "      <td>1</td>\n",
       "      <td>0.00</td>\n",
       "      <td>0.00</td>\n",
       "      <td>0.0</td>\n",
       "      <td>46</td>\n",
       "    </tr>\n",
       "    <tr>\n",
       "      <th>1</th>\n",
       "      <td>2021-01-01</td>\n",
       "      <td>101</td>\n",
       "      <td>101. (구)합정동 주민센터</td>\n",
       "      <td>일일(회원)</td>\n",
       "      <td>M</td>\n",
       "      <td>AGE_002</td>\n",
       "      <td>1</td>\n",
       "      <td>0.00</td>\n",
       "      <td>0.00</td>\n",
       "      <td>0.0</td>\n",
       "      <td>48</td>\n",
       "    </tr>\n",
       "    <tr>\n",
       "      <th>2</th>\n",
       "      <td>2021-01-01</td>\n",
       "      <td>101</td>\n",
       "      <td>101. (구)합정동 주민센터</td>\n",
       "      <td>정기</td>\n",
       "      <td>\\N</td>\n",
       "      <td>AGE_002</td>\n",
       "      <td>1</td>\n",
       "      <td>0.00</td>\n",
       "      <td>0.00</td>\n",
       "      <td>0.0</td>\n",
       "      <td>31</td>\n",
       "    </tr>\n",
       "    <tr>\n",
       "      <th>3</th>\n",
       "      <td>2021-01-01</td>\n",
       "      <td>101</td>\n",
       "      <td>101. (구)합정동 주민센터</td>\n",
       "      <td>정기</td>\n",
       "      <td>\\N</td>\n",
       "      <td>AGE_005</td>\n",
       "      <td>1</td>\n",
       "      <td>0.00</td>\n",
       "      <td>0.00</td>\n",
       "      <td>0.0</td>\n",
       "      <td>30</td>\n",
       "    </tr>\n",
       "    <tr>\n",
       "      <th>4</th>\n",
       "      <td>2021-01-01</td>\n",
       "      <td>101</td>\n",
       "      <td>101. (구)합정동 주민센터</td>\n",
       "      <td>정기</td>\n",
       "      <td>F</td>\n",
       "      <td>AGE_003</td>\n",
       "      <td>1</td>\n",
       "      <td>0.00</td>\n",
       "      <td>0.00</td>\n",
       "      <td>0.0</td>\n",
       "      <td>78</td>\n",
       "    </tr>\n",
       "  </tbody>\n",
       "</table>\n",
       "</div>"
      ],
      "text/plain": [
       "        대여일자  대여소번호               대여소  대여구분코드  성별    연령대코드  이용건수   운동량   탄소량  \\\n",
       "0 2021-01-01    101  101. (구)합정동 주민센터  일일(회원)  \\N  AGE_002     1  0.00  0.00   \n",
       "1 2021-01-01    101  101. (구)합정동 주민센터  일일(회원)   M  AGE_002     1  0.00  0.00   \n",
       "2 2021-01-01    101  101. (구)합정동 주민센터      정기  \\N  AGE_002     1  0.00  0.00   \n",
       "3 2021-01-01    101  101. (구)합정동 주민센터      정기  \\N  AGE_005     1  0.00  0.00   \n",
       "4 2021-01-01    101  101. (구)합정동 주민센터      정기   F  AGE_003     1  0.00  0.00   \n",
       "\n",
       "   이동거리(M)  이용시간(분)  \n",
       "0      0.0       46  \n",
       "1      0.0       48  \n",
       "2      0.0       31  \n",
       "3      0.0       30  \n",
       "4      0.0       78  "
      ]
     },
     "execution_count": 4,
     "metadata": {},
     "output_type": "execute_result"
    }
   ],
   "source": [
    "# 2.1 .head() 로 데이터의 컬럼과 어떤 값이 들어있는지 확인\n",
    "bikeusage.head()"
   ]
  },
  {
   "cell_type": "code",
   "execution_count": 5,
   "metadata": {},
   "outputs": [
    {
     "data": {
      "text/plain": [
       "(474631, 11)"
      ]
     },
     "execution_count": 5,
     "metadata": {},
     "output_type": "execute_result"
    }
   ],
   "source": [
    "# 2.2 .shape로 데이터 컬럼수와 행의 개수 확인\n",
    "bikeusage.shape"
   ]
  },
  {
   "cell_type": "code",
   "execution_count": 6,
   "metadata": {
    "scrolled": true
   },
   "outputs": [
    {
     "name": "stdout",
     "output_type": "stream",
     "text": [
      "<class 'pandas.core.frame.DataFrame'>\n",
      "RangeIndex: 474631 entries, 0 to 474630\n",
      "Data columns (total 11 columns):\n",
      " #   Column   Non-Null Count   Dtype         \n",
      "---  ------   --------------   -----         \n",
      " 0   대여일자     474631 non-null  datetime64[ns]\n",
      " 1   대여소번호    474631 non-null  int64         \n",
      " 2   대여소      474631 non-null  object        \n",
      " 3   대여구분코드   474631 non-null  object        \n",
      " 4   성별       442580 non-null  object        \n",
      " 5   연령대코드    474631 non-null  object        \n",
      " 6   이용건수     474631 non-null  int64         \n",
      " 7   운동량      474631 non-null  object        \n",
      " 8   탄소량      474631 non-null  object        \n",
      " 9   이동거리(M)  474631 non-null  float64       \n",
      " 10  이용시간(분)  474631 non-null  int64         \n",
      "dtypes: datetime64[ns](1), float64(1), int64(3), object(6)\n",
      "memory usage: 39.8+ MB\n"
     ]
    }
   ],
   "source": [
    "# 2.3 .info()로 누락값의 비율, 데이터 사용량, 자료형 확인\n",
    "bikeusage.info()"
   ]
  },
  {
   "cell_type": "code",
   "execution_count": 13,
   "metadata": {
    "scrolled": true
   },
   "outputs": [
    {
     "data": {
      "text/plain": [
       "229851720"
      ]
     },
     "execution_count": 13,
     "metadata": {},
     "output_type": "execute_result"
    }
   ],
   "source": [
    "# 2.4  .memory_usage(deep=True) 를 사용해서 총 메모리 사용량을 확인한다. \n",
    "#       mem_old에 총사용량을 저장한다.  (실제로는 약 230 MB 정도 사용하고 있다. )\n",
    "mem_old = bikeusage.memory_usage(deep=True).sum()\n",
    "mem_old"
   ]
  },
  {
   "cell_type": "code",
   "execution_count": 14,
   "metadata": {},
   "outputs": [
    {
     "data": {
      "text/html": [
       "<div>\n",
       "<style scoped>\n",
       "    .dataframe tbody tr th:only-of-type {\n",
       "        vertical-align: middle;\n",
       "    }\n",
       "\n",
       "    .dataframe tbody tr th {\n",
       "        vertical-align: top;\n",
       "    }\n",
       "\n",
       "    .dataframe thead th {\n",
       "        text-align: right;\n",
       "    }\n",
       "</style>\n",
       "<table border=\"1\" class=\"dataframe\">\n",
       "  <thead>\n",
       "    <tr style=\"text-align: right;\">\n",
       "      <th></th>\n",
       "      <th>대여소번호</th>\n",
       "      <th>이용건수</th>\n",
       "      <th>이동거리(M)</th>\n",
       "      <th>이용시간(분)</th>\n",
       "    </tr>\n",
       "  </thead>\n",
       "  <tbody>\n",
       "    <tr>\n",
       "      <th>count</th>\n",
       "      <td>474631.000000</td>\n",
       "      <td>474631.000000</td>\n",
       "      <td>474631.000000</td>\n",
       "      <td>474631.000000</td>\n",
       "    </tr>\n",
       "    <tr>\n",
       "      <th>mean</th>\n",
       "      <td>1409.829944</td>\n",
       "      <td>1.669941</td>\n",
       "      <td>4639.316900</td>\n",
       "      <td>42.982490</td>\n",
       "    </tr>\n",
       "    <tr>\n",
       "      <th>std</th>\n",
       "      <td>929.803462</td>\n",
       "      <td>1.315851</td>\n",
       "      <td>6737.240458</td>\n",
       "      <td>55.616423</td>\n",
       "    </tr>\n",
       "    <tr>\n",
       "      <th>min</th>\n",
       "      <td>3.000000</td>\n",
       "      <td>1.000000</td>\n",
       "      <td>0.000000</td>\n",
       "      <td>0.000000</td>\n",
       "    </tr>\n",
       "    <tr>\n",
       "      <th>25%</th>\n",
       "      <td>621.000000</td>\n",
       "      <td>1.000000</td>\n",
       "      <td>1081.715000</td>\n",
       "      <td>11.000000</td>\n",
       "    </tr>\n",
       "    <tr>\n",
       "      <th>50%</th>\n",
       "      <td>1248.000000</td>\n",
       "      <td>1.000000</td>\n",
       "      <td>2513.140000</td>\n",
       "      <td>25.000000</td>\n",
       "    </tr>\n",
       "    <tr>\n",
       "      <th>75%</th>\n",
       "      <td>2089.000000</td>\n",
       "      <td>2.000000</td>\n",
       "      <td>5670.505000</td>\n",
       "      <td>55.000000</td>\n",
       "    </tr>\n",
       "    <tr>\n",
       "      <th>max</th>\n",
       "      <td>9999.000000</td>\n",
       "      <td>61.000000</td>\n",
       "      <td>463301.420000</td>\n",
       "      <td>3906.000000</td>\n",
       "    </tr>\n",
       "  </tbody>\n",
       "</table>\n",
       "</div>"
      ],
      "text/plain": [
       "               대여소번호           이용건수        이동거리(M)        이용시간(분)\n",
       "count  474631.000000  474631.000000  474631.000000  474631.000000\n",
       "mean     1409.829944       1.669941    4639.316900      42.982490\n",
       "std       929.803462       1.315851    6737.240458      55.616423\n",
       "min         3.000000       1.000000       0.000000       0.000000\n",
       "25%       621.000000       1.000000    1081.715000      11.000000\n",
       "50%      1248.000000       1.000000    2513.140000      25.000000\n",
       "75%      2089.000000       2.000000    5670.505000      55.000000\n",
       "max      9999.000000      61.000000  463301.420000    3906.000000"
      ]
     },
     "execution_count": 14,
     "metadata": {},
     "output_type": "execute_result"
    }
   ],
   "source": [
    "# 2.5 .describe()  수치형으로 기술 통계 확인\n",
    "bikeusage.describe()"
   ]
  },
  {
   "cell_type": "code",
   "execution_count": 15,
   "metadata": {},
   "outputs": [
    {
     "data": {
      "text/html": [
       "<div>\n",
       "<style scoped>\n",
       "    .dataframe tbody tr th:only-of-type {\n",
       "        vertical-align: middle;\n",
       "    }\n",
       "\n",
       "    .dataframe tbody tr th {\n",
       "        vertical-align: top;\n",
       "    }\n",
       "\n",
       "    .dataframe thead th {\n",
       "        text-align: right;\n",
       "    }\n",
       "</style>\n",
       "<table border=\"1\" class=\"dataframe\">\n",
       "  <thead>\n",
       "    <tr style=\"text-align: right;\">\n",
       "      <th></th>\n",
       "      <th>대여소</th>\n",
       "      <th>대여구분코드</th>\n",
       "      <th>성별</th>\n",
       "      <th>연령대코드</th>\n",
       "      <th>운동량</th>\n",
       "      <th>탄소량</th>\n",
       "    </tr>\n",
       "  </thead>\n",
       "  <tbody>\n",
       "    <tr>\n",
       "      <th>count</th>\n",
       "      <td>474631</td>\n",
       "      <td>474631</td>\n",
       "      <td>442580</td>\n",
       "      <td>474631</td>\n",
       "      <td>474631</td>\n",
       "      <td>474631</td>\n",
       "    </tr>\n",
       "    <tr>\n",
       "      <th>unique</th>\n",
       "      <td>2056</td>\n",
       "      <td>5</td>\n",
       "      <td>5</td>\n",
       "      <td>8</td>\n",
       "      <td>59379</td>\n",
       "      <td>1806</td>\n",
       "    </tr>\n",
       "    <tr>\n",
       "      <th>top</th>\n",
       "      <td>502. 뚝섬유원지역 1번출구 앞</td>\n",
       "      <td>정기</td>\n",
       "      <td>\\N</td>\n",
       "      <td>AGE_002</td>\n",
       "      <td>0.00</td>\n",
       "      <td>0.00</td>\n",
       "    </tr>\n",
       "    <tr>\n",
       "      <th>freq</th>\n",
       "      <td>734</td>\n",
       "      <td>367609</td>\n",
       "      <td>178367</td>\n",
       "      <td>154416</td>\n",
       "      <td>37614</td>\n",
       "      <td>37800</td>\n",
       "    </tr>\n",
       "  </tbody>\n",
       "</table>\n",
       "</div>"
      ],
      "text/plain": [
       "                       대여소  대여구분코드      성별    연령대코드     운동량     탄소량\n",
       "count               474631  474631  442580   474631  474631  474631\n",
       "unique                2056       5       5        8   59379    1806\n",
       "top     502. 뚝섬유원지역 1번출구 앞      정기      \\N  AGE_002    0.00    0.00\n",
       "freq                   734  367609  178367   154416   37614   37800"
      ]
     },
     "execution_count": 15,
     "metadata": {},
     "output_type": "execute_result"
    }
   ],
   "source": [
    "# 2.6 .describe(include = 'object’) 로 문자열 정보 확인, \n",
    "bikeusage.describe(include = 'object')"
   ]
  },
  {
   "cell_type": "code",
   "execution_count": 16,
   "metadata": {},
   "outputs": [
    {
     "data": {
      "text/plain": [
       "정기         367609\n",
       "일일(회원)     100938\n",
       "단체           2990\n",
       "일일(비회원)      2467\n",
       "BIL_021       627\n",
       "Name: 대여구분코드, dtype: int64"
      ]
     },
     "metadata": {},
     "output_type": "display_data"
    },
    {
     "data": {
      "text/plain": [
       "\\N    178367\n",
       "M     164375\n",
       "F      99657\n",
       "m        145\n",
       "f         36\n",
       "Name: 성별, dtype: int64"
      ]
     },
     "metadata": {},
     "output_type": "display_data"
    },
    {
     "data": {
      "text/plain": [
       "AGE_002    154416\n",
       "AGE_003    113444\n",
       "AGE_004     86369\n",
       "AGE_005     60538\n",
       "AGE_001     23400\n",
       "AGE_006     22931\n",
       "AGE_008      9850\n",
       "AGE_007      3683\n",
       "Name: 연령대코드, dtype: int64"
      ]
     },
     "metadata": {},
     "output_type": "display_data"
    }
   ],
   "source": [
    "# 2.7 범주형 컬럼의 대표 항목값을 확인   (범주화 대상후보 : 대여구분코드, 성별, 연령대코드)\n",
    "display(bikeusage['대여구분코드'].value_counts())\n",
    "display(bikeusage['성별'].value_counts())\n",
    "display(bikeusage['연령대코드'].value_counts())"
   ]
  },
  {
   "cell_type": "code",
   "execution_count": 21,
   "metadata": {},
   "outputs": [
    {
     "data": {
      "text/plain": [
       "0.00    37614\n",
       "\\N       2244\n",
       "2.27      157\n",
       "0.01      139\n",
       "9.02      138\n",
       "Name: 운동량, dtype: int64"
      ]
     },
     "metadata": {},
     "output_type": "display_data"
    },
    {
     "data": {
      "text/plain": [
       "0.00    37800\n",
       "0.19     4877\n",
       "0.16     4804\n",
       "0.18     4785\n",
       "0.22     4699\n",
       "Name: 탄소량, dtype: int64"
      ]
     },
     "metadata": {},
     "output_type": "display_data"
    }
   ],
   "source": [
    "# 2.8 수치형 데이터로 생각되는 object 형 데이터의 주요 항목유형 확인 (운동량, 탄소량)\n",
    "#  \\N 문자열이 문제가 됨.\n",
    "display(bikeusage['운동량'].value_counts().head())\n",
    "display(bikeusage['탄소량'].value_counts().head())"
   ]
  },
  {
   "cell_type": "code",
   "execution_count": 22,
   "metadata": {
    "scrolled": true
   },
   "outputs": [
    {
     "name": "stdout",
     "output_type": "stream",
     "text": [
      "<class 'pandas.core.frame.DataFrame'>\n",
      "RangeIndex: 474631 entries, 0 to 474630\n",
      "Data columns (total 11 columns):\n",
      " #   Column   Non-Null Count   Dtype         \n",
      "---  ------   --------------   -----         \n",
      " 0   대여일자     474631 non-null  datetime64[ns]\n",
      " 1   대여소번호    474631 non-null  int16         \n",
      " 2   대여소      474631 non-null  category      \n",
      " 3   대여구분코드   474631 non-null  category      \n",
      " 4   성별       442580 non-null  category      \n",
      " 5   연령대코드    474631 non-null  category      \n",
      " 6   이용건수     474631 non-null  int16         \n",
      " 7   운동량      474631 non-null  object        \n",
      " 8   탄소량      474631 non-null  object        \n",
      " 9   이동거리(M)  474631 non-null  float64       \n",
      " 10  이용시간(분)  474631 non-null  int16         \n",
      "dtypes: category(4), datetime64[ns](1), float64(1), int16(3), object(2)\n",
      "memory usage: 19.6+ MB\n"
     ]
    }
   ],
   "source": [
    "# 2.9 다음과 같이 자료형 변환을 수행한다. \n",
    "\"\"\"\n",
    "0   대여일자     474631 non-null  datetime64[ns]  \n",
    " 1   대여소번호    474631 non-null  int64    --> int16     \n",
    " 2   대여소      474631 non-null  object     --> category   \n",
    " 3   대여구분코드   474631 non-null  object  --> category      \n",
    " 4   성별       442580 non-null  object     --> category   \n",
    " 5   연령대코드    474631 non-null  object  --> category      \n",
    " 6   이용건수     474631 non-null  int64    --> int16     \n",
    " 7   운동량      474631 non-null  object    --> 잠정유지   \n",
    " 8   탄소량      474631 non-null  object    --> 잠정유지    \n",
    " 9   이동거리(M)  474631 non-null  float64     \n",
    " 10  이용시간(분)  474631 non-null  int64    --> int16     \n",
    "dtypes: datetime64[ns](1), float64(1), int64(3), object(6)\n",
    "\"\"\"\n",
    "col_dict = dict (대여소번호= 'int16', 대여소 = 'category', 대여구분코드 = 'category', 성별 = 'category', 연령대코드 = 'category', 이용건수 = 'int16')\n",
    "\n",
    "bikeusage = bikeusage.astype(col_dict)\n",
    "bikeusage['이용시간(분)'] = bikeusage['이용시간(분)'].astype('int16')\n",
    "\n",
    "bikeusage.info()"
   ]
  },
  {
   "cell_type": "code",
   "execution_count": 23,
   "metadata": {
    "scrolled": true
   },
   "outputs": [
    {
     "name": "stdout",
     "output_type": "stream",
     "text": [
      "71696500\n",
      "0.31192500974106263\n"
     ]
    }
   ],
   "source": [
    "# 2.10 변경된 메모리 사용량 확인 (mem_new(스칼라)에 총 사용량을 저장한다. )\n",
    "#      mem_new/mem_old의 비율을 확인한다. \n",
    "mem_new = bikeusage.memory_usage(deep=True).sum()\n",
    "print(mem_new)\n",
    "print(mem_new/mem_old)"
   ]
  },
  {
   "cell_type": "code",
   "execution_count": 29,
   "metadata": {},
   "outputs": [
    {
     "data": {
      "text/html": [
       "<div>\n",
       "<style scoped>\n",
       "    .dataframe tbody tr th:only-of-type {\n",
       "        vertical-align: middle;\n",
       "    }\n",
       "\n",
       "    .dataframe tbody tr th {\n",
       "        vertical-align: top;\n",
       "    }\n",
       "\n",
       "    .dataframe thead th {\n",
       "        text-align: right;\n",
       "    }\n",
       "</style>\n",
       "<table border=\"1\" class=\"dataframe\">\n",
       "  <thead>\n",
       "    <tr style=\"text-align: right;\">\n",
       "      <th></th>\n",
       "      <th>count</th>\n",
       "      <th>unique</th>\n",
       "      <th>top</th>\n",
       "      <th>freq</th>\n",
       "      <th>first</th>\n",
       "      <th>last</th>\n",
       "    </tr>\n",
       "  </thead>\n",
       "  <tbody>\n",
       "    <tr>\n",
       "      <th>대여일자</th>\n",
       "      <td>474631</td>\n",
       "      <td>31</td>\n",
       "      <td>2021-01-25</td>\n",
       "      <td>25687</td>\n",
       "      <td>2021-01-01</td>\n",
       "      <td>2021-01-31</td>\n",
       "    </tr>\n",
       "  </tbody>\n",
       "</table>\n",
       "</div>"
      ],
      "text/plain": [
       "       count unique        top   freq      first       last\n",
       "대여일자  474631     31 2021-01-25  25687 2021-01-01 2021-01-31"
      ]
     },
     "execution_count": 29,
     "metadata": {},
     "output_type": "execute_result"
    }
   ],
   "source": [
    "# 2.11 일자형 데이터를 일자로 읽어들여서 데이터의 시작과 끝을 확인한다.\n",
    "bikeusage.describe(include = 'datetime').T"
   ]
  },
  {
   "cell_type": "markdown",
   "metadata": {},
   "source": [
    "## 3. 다음 2가지 데이터에 대한 이슈를 해결한다. \n",
    "- 3.1 운동량, 탄소량에 포함된 '\\\\N' 을 np.nan으로 변환하고 float32로 형변환\n",
    "- 3.2 성별 m, f 를 M, F로 통일하고 '\\\\N'을 np.nan으로 변환\n",
    "- 3.3 bikeusage의 info와 memory_usage를 확인한다.\n"
   ]
  },
  {
   "cell_type": "code",
   "execution_count": null,
   "metadata": {},
   "outputs": [],
   "source": [
    "# 3.1 운동량, 탄소량에 포함된 '\\N' 을 np.nan으로 변환하고 float32로 형변환"
   ]
  },
  {
   "cell_type": "code",
   "execution_count": 35,
   "metadata": {},
   "outputs": [],
   "source": [
    "# 3.1.1 운동량, 탄소량에 포함된 '\\\\N' 을 np.nan으로 변환한다. .mask method를 이용한다. \n",
    "bikeusage.운동량.mask ( bikeusage['운동량']== '\\\\N', inplace = True)\n",
    "bikeusage.탄소량.mask ( bikeusage['탄소량']== '\\\\N', inplace = True)"
   ]
  },
  {
   "cell_type": "code",
   "execution_count": 36,
   "metadata": {},
   "outputs": [],
   "source": [
    "# 3.1.2 운동량, 탄소량을 float32로 변환한다.\n",
    "bikeusage = bikeusage.astype({'운동량':'float32', '탄소량': 'float32'})"
   ]
  },
  {
   "cell_type": "code",
   "execution_count": null,
   "metadata": {},
   "outputs": [],
   "source": []
  },
  {
   "cell_type": "code",
   "execution_count": null,
   "metadata": {},
   "outputs": [],
   "source": [
    "# 3.2 성별 m, f 를 M, F로 통일하고 '\\N'을 np.nan으로 변환"
   ]
  },
  {
   "cell_type": "code",
   "execution_count": 37,
   "metadata": {},
   "outputs": [],
   "source": [
    "# 3.2.1 성별 m, f를 각각 M, F로 변경한다. .mask method 이용\n",
    "bikeusage.성별.mask ( bikeusage['성별']== 'm', 'M', inplace = True)\n",
    "bikeusage.성별.mask ( bikeusage['성별']== 'f', 'F', inplace = True)"
   ]
  },
  {
   "cell_type": "code",
   "execution_count": 38,
   "metadata": {},
   "outputs": [],
   "source": [
    "# 3.2.2 성별 '\\\\N'를 np.nan로 변경한다. .mask method 이용\n",
    "bikeusage.성별.mask ( bikeusage['성별']== '\\\\N', inplace = True)"
   ]
  },
  {
   "cell_type": "code",
   "execution_count": 39,
   "metadata": {},
   "outputs": [
    {
     "data": {
      "text/plain": [
       "M     164520\n",
       "F      99693\n",
       "m          0\n",
       "f          0\n",
       "\\N         0\n",
       "Name: 성별, dtype: int64"
      ]
     },
     "execution_count": 39,
     "metadata": {},
     "output_type": "execute_result"
    }
   ],
   "source": [
    "# 3.2.3 value_counts를 통해 잘 변경 되었는지 확인한다. \n",
    "bikeusage.성별.value_counts()"
   ]
  },
  {
   "cell_type": "code",
   "execution_count": 40,
   "metadata": {},
   "outputs": [
    {
     "data": {
      "text/plain": [
       "M    164520\n",
       "F     99693\n",
       "Name: 성별, dtype: int64"
      ]
     },
     "execution_count": 40,
     "metadata": {},
     "output_type": "execute_result"
    }
   ],
   "source": [
    "# 3.2.4  '\\\\N',m,f 의 건수는 없어졌지만, 범주가 없어지지는 않느다. \n",
    "#  trick으로 성별을 한 번 object로 형 변환 후, 다시 category로 형변환 한다. \n",
    "# 다시 value_counts로 결과를 확인한다.\n",
    "bikeusage['성별'] = bikeusage['성별'].astype('object')\n",
    "bikeusage['성별'] = bikeusage['성별'].astype('category')\n",
    "bikeusage['성별'].value_counts()"
   ]
  },
  {
   "cell_type": "code",
   "execution_count": 21,
   "metadata": {},
   "outputs": [],
   "source": [
    "# 3.3 bikeusage의 info와 memory_usage를 확인한다."
   ]
  },
  {
   "cell_type": "code",
   "execution_count": 41,
   "metadata": {},
   "outputs": [
    {
     "name": "stdout",
     "output_type": "stream",
     "text": [
      "<class 'pandas.core.frame.DataFrame'>\n",
      "RangeIndex: 474631 entries, 0 to 474630\n",
      "Data columns (total 11 columns):\n",
      " #   Column   Non-Null Count   Dtype         \n",
      "---  ------   --------------   -----         \n",
      " 0   대여일자     474631 non-null  datetime64[ns]\n",
      " 1   대여소번호    474631 non-null  int16         \n",
      " 2   대여소      474631 non-null  category      \n",
      " 3   대여구분코드   474631 non-null  category      \n",
      " 4   성별       264213 non-null  category      \n",
      " 5   연령대코드    474631 non-null  category      \n",
      " 6   이용건수     474631 non-null  int16         \n",
      " 7   운동량      472387 non-null  float32       \n",
      " 8   탄소량      472387 non-null  float32       \n",
      " 9   이동거리(M)  474631 non-null  float64       \n",
      " 10  이용시간(분)  474631 non-null  int16         \n",
      "dtypes: category(4), datetime64[ns](1), float32(2), float64(1), int16(3)\n",
      "memory usage: 15.9 MB\n"
     ]
    }
   ],
   "source": [
    "# 3.3.1 bikeusage의 info 확인\n",
    "bikeusage.info()"
   ]
  },
  {
   "cell_type": "code",
   "execution_count": 42,
   "metadata": {},
   "outputs": [
    {
     "data": {
      "text/plain": [
       "Index          128\n",
       "대여일자       3797048\n",
       "대여소번호       949262\n",
       "대여소        1047630\n",
       "대여구분코드      474831\n",
       "성별          474727\n",
       "연령대코드       475015\n",
       "이용건수        949262\n",
       "운동량        1898524\n",
       "탄소량        1898524\n",
       "이동거리(M)    3797048\n",
       "이용시간(분)     949262\n",
       "dtype: int64"
      ]
     },
     "execution_count": 42,
     "metadata": {},
     "output_type": "execute_result"
    }
   ],
   "source": [
    "# 3.3.2 memory_usage를 확인한다.\n",
    "bikeusage.memory_usage()"
   ]
  },
  {
   "cell_type": "code",
   "execution_count": 47,
   "metadata": {},
   "outputs": [
    {
     "name": "stdout",
     "output_type": "stream",
     "text": [
      "16711261\n",
      "0.07270452881535974\n"
     ]
    }
   ],
   "source": [
    "# 3.3.3 mem_old와 사용총량을 비교해보자. \n",
    "mem_new1 = bikeusage.memory_usage().sum()\n",
    "print(mem_new1)\n",
    "print(mem_new1/mem_old)"
   ]
  },
  {
   "cell_type": "markdown",
   "metadata": {},
   "source": [
    "## 4.다음의 데이터 추출을 불리언인덱싱과 .query 메소드로 실행해보고, 속도 차이를 관찰한다. \n",
    "- 조건 :   여성 , 성별 20대의  평균 이동거리(M)\n",
    "- 주의사항 : 평균 이동거리는 각 행의 이용건수로 나누어야 진정한 이동거리가 된다. \n"
   ]
  },
  {
   "cell_type": "code",
   "execution_count": 49,
   "metadata": {
    "scrolled": true
   },
   "outputs": [
    {
     "data": {
      "text/html": [
       "<div>\n",
       "<style scoped>\n",
       "    .dataframe tbody tr th:only-of-type {\n",
       "        vertical-align: middle;\n",
       "    }\n",
       "\n",
       "    .dataframe tbody tr th {\n",
       "        vertical-align: top;\n",
       "    }\n",
       "\n",
       "    .dataframe thead th {\n",
       "        text-align: right;\n",
       "    }\n",
       "</style>\n",
       "<table border=\"1\" class=\"dataframe\">\n",
       "  <thead>\n",
       "    <tr style=\"text-align: right;\">\n",
       "      <th></th>\n",
       "      <th>대여일자</th>\n",
       "      <th>대여소번호</th>\n",
       "      <th>대여소</th>\n",
       "      <th>대여구분코드</th>\n",
       "      <th>성별</th>\n",
       "      <th>연령대코드</th>\n",
       "      <th>이용건수</th>\n",
       "      <th>운동량</th>\n",
       "      <th>탄소량</th>\n",
       "      <th>이동거리(M)</th>\n",
       "      <th>이용시간(분)</th>\n",
       "    </tr>\n",
       "  </thead>\n",
       "  <tbody>\n",
       "    <tr>\n",
       "      <th>9</th>\n",
       "      <td>2021-01-01</td>\n",
       "      <td>102</td>\n",
       "      <td>102. 망원역 1번출구 앞</td>\n",
       "      <td>일일(회원)</td>\n",
       "      <td>F</td>\n",
       "      <td>AGE_002</td>\n",
       "      <td>1</td>\n",
       "      <td>0.000000</td>\n",
       "      <td>0.00</td>\n",
       "      <td>0.00</td>\n",
       "      <td>8</td>\n",
       "    </tr>\n",
       "    <tr>\n",
       "      <th>15</th>\n",
       "      <td>2021-01-01</td>\n",
       "      <td>102</td>\n",
       "      <td>102. 망원역 1번출구 앞</td>\n",
       "      <td>정기</td>\n",
       "      <td>F</td>\n",
       "      <td>AGE_002</td>\n",
       "      <td>1</td>\n",
       "      <td>0.000000</td>\n",
       "      <td>0.00</td>\n",
       "      <td>0.00</td>\n",
       "      <td>5</td>\n",
       "    </tr>\n",
       "    <tr>\n",
       "      <th>30</th>\n",
       "      <td>2021-01-01</td>\n",
       "      <td>103</td>\n",
       "      <td>103. 망원역 2번출구 앞</td>\n",
       "      <td>정기</td>\n",
       "      <td>F</td>\n",
       "      <td>AGE_002</td>\n",
       "      <td>1</td>\n",
       "      <td>311.709991</td>\n",
       "      <td>2.81</td>\n",
       "      <td>12110.00</td>\n",
       "      <td>59</td>\n",
       "    </tr>\n",
       "    <tr>\n",
       "      <th>47</th>\n",
       "      <td>2021-01-01</td>\n",
       "      <td>105</td>\n",
       "      <td>105. 합정역 5번출구 앞</td>\n",
       "      <td>정기</td>\n",
       "      <td>F</td>\n",
       "      <td>AGE_002</td>\n",
       "      <td>3</td>\n",
       "      <td>57.669998</td>\n",
       "      <td>0.58</td>\n",
       "      <td>2485.45</td>\n",
       "      <td>18</td>\n",
       "    </tr>\n",
       "    <tr>\n",
       "      <th>57</th>\n",
       "      <td>2021-01-01</td>\n",
       "      <td>106</td>\n",
       "      <td>106. 합정역 7번출구 앞</td>\n",
       "      <td>정기</td>\n",
       "      <td>F</td>\n",
       "      <td>AGE_002</td>\n",
       "      <td>1</td>\n",
       "      <td>75.989998</td>\n",
       "      <td>0.89</td>\n",
       "      <td>3837.85</td>\n",
       "      <td>26</td>\n",
       "    </tr>\n",
       "    <tr>\n",
       "      <th>...</th>\n",
       "      <td>...</td>\n",
       "      <td>...</td>\n",
       "      <td>...</td>\n",
       "      <td>...</td>\n",
       "      <td>...</td>\n",
       "      <td>...</td>\n",
       "      <td>...</td>\n",
       "      <td>...</td>\n",
       "      <td>...</td>\n",
       "      <td>...</td>\n",
       "      <td>...</td>\n",
       "    </tr>\n",
       "    <tr>\n",
       "      <th>474601</th>\n",
       "      <td>2021-01-31</td>\n",
       "      <td>3582</td>\n",
       "      <td>3582.화양동 우체국</td>\n",
       "      <td>정기</td>\n",
       "      <td>F</td>\n",
       "      <td>AGE_002</td>\n",
       "      <td>2</td>\n",
       "      <td>33.810001</td>\n",
       "      <td>0.32</td>\n",
       "      <td>1394.68</td>\n",
       "      <td>10</td>\n",
       "    </tr>\n",
       "    <tr>\n",
       "      <th>474608</th>\n",
       "      <td>2021-01-31</td>\n",
       "      <td>3586</td>\n",
       "      <td>3586.군자역 비채온 오피스텔</td>\n",
       "      <td>일일(회원)</td>\n",
       "      <td>F</td>\n",
       "      <td>AGE_002</td>\n",
       "      <td>1</td>\n",
       "      <td>91.730003</td>\n",
       "      <td>1.25</td>\n",
       "      <td>5386.86</td>\n",
       "      <td>43</td>\n",
       "    </tr>\n",
       "    <tr>\n",
       "      <th>474615</th>\n",
       "      <td>2021-01-31</td>\n",
       "      <td>3586</td>\n",
       "      <td>3586.군자역 비채온 오피스텔</td>\n",
       "      <td>정기</td>\n",
       "      <td>F</td>\n",
       "      <td>AGE_002</td>\n",
       "      <td>2</td>\n",
       "      <td>170.169998</td>\n",
       "      <td>1.53</td>\n",
       "      <td>6610.95</td>\n",
       "      <td>34</td>\n",
       "    </tr>\n",
       "    <tr>\n",
       "      <th>474622</th>\n",
       "      <td>2021-01-31</td>\n",
       "      <td>3587</td>\n",
       "      <td>3587.우성식품 앞</td>\n",
       "      <td>일일(회원)</td>\n",
       "      <td>F</td>\n",
       "      <td>AGE_002</td>\n",
       "      <td>1</td>\n",
       "      <td>76.900002</td>\n",
       "      <td>0.82</td>\n",
       "      <td>3530.67</td>\n",
       "      <td>43</td>\n",
       "    </tr>\n",
       "    <tr>\n",
       "      <th>474625</th>\n",
       "      <td>2021-01-31</td>\n",
       "      <td>3587</td>\n",
       "      <td>3587.우성식품 앞</td>\n",
       "      <td>정기</td>\n",
       "      <td>F</td>\n",
       "      <td>AGE_002</td>\n",
       "      <td>1</td>\n",
       "      <td>18.750000</td>\n",
       "      <td>0.17</td>\n",
       "      <td>728.60</td>\n",
       "      <td>4</td>\n",
       "    </tr>\n",
       "  </tbody>\n",
       "</table>\n",
       "<p>35276 rows × 11 columns</p>\n",
       "</div>"
      ],
      "text/plain": [
       "             대여일자  대여소번호                대여소  대여구분코드 성별    연령대코드  이용건수  \\\n",
       "9      2021-01-01    102    102. 망원역 1번출구 앞  일일(회원)  F  AGE_002     1   \n",
       "15     2021-01-01    102    102. 망원역 1번출구 앞      정기  F  AGE_002     1   \n",
       "30     2021-01-01    103    103. 망원역 2번출구 앞      정기  F  AGE_002     1   \n",
       "47     2021-01-01    105    105. 합정역 5번출구 앞      정기  F  AGE_002     3   \n",
       "57     2021-01-01    106    106. 합정역 7번출구 앞      정기  F  AGE_002     1   \n",
       "...           ...    ...                ...     ... ..      ...   ...   \n",
       "474601 2021-01-31   3582       3582.화양동 우체국      정기  F  AGE_002     2   \n",
       "474608 2021-01-31   3586  3586.군자역 비채온 오피스텔  일일(회원)  F  AGE_002     1   \n",
       "474615 2021-01-31   3586  3586.군자역 비채온 오피스텔      정기  F  AGE_002     2   \n",
       "474622 2021-01-31   3587        3587.우성식품 앞  일일(회원)  F  AGE_002     1   \n",
       "474625 2021-01-31   3587        3587.우성식품 앞      정기  F  AGE_002     1   \n",
       "\n",
       "               운동량   탄소량   이동거리(M)  이용시간(분)  \n",
       "9         0.000000  0.00      0.00        8  \n",
       "15        0.000000  0.00      0.00        5  \n",
       "30      311.709991  2.81  12110.00       59  \n",
       "47       57.669998  0.58   2485.45       18  \n",
       "57       75.989998  0.89   3837.85       26  \n",
       "...            ...   ...       ...      ...  \n",
       "474601   33.810001  0.32   1394.68       10  \n",
       "474608   91.730003  1.25   5386.86       43  \n",
       "474615  170.169998  1.53   6610.95       34  \n",
       "474622   76.900002  0.82   3530.67       43  \n",
       "474625   18.750000  0.17    728.60        4  \n",
       "\n",
       "[35276 rows x 11 columns]"
      ]
     },
     "execution_count": 49,
     "metadata": {},
     "output_type": "execute_result"
    }
   ],
   "source": [
    "# 4.1 불리언 인덱싱으로 여성, 성별 20대인 행을 추출한다. usage_w_20_bi\n",
    "usage_w_20_bi = bikeusage[(bikeusage['성별']=='F') & (bikeusage['연령대코드']=='AGE_002')]\n",
    "usage_w_20_bi"
   ]
  },
  {
   "cell_type": "code",
   "execution_count": 52,
   "metadata": {
    "scrolled": true
   },
   "outputs": [
    {
     "data": {
      "text/html": [
       "<div>\n",
       "<style scoped>\n",
       "    .dataframe tbody tr th:only-of-type {\n",
       "        vertical-align: middle;\n",
       "    }\n",
       "\n",
       "    .dataframe tbody tr th {\n",
       "        vertical-align: top;\n",
       "    }\n",
       "\n",
       "    .dataframe thead th {\n",
       "        text-align: right;\n",
       "    }\n",
       "</style>\n",
       "<table border=\"1\" class=\"dataframe\">\n",
       "  <thead>\n",
       "    <tr style=\"text-align: right;\">\n",
       "      <th></th>\n",
       "      <th>대여일자</th>\n",
       "      <th>대여소번호</th>\n",
       "      <th>대여소</th>\n",
       "      <th>대여구분코드</th>\n",
       "      <th>성별</th>\n",
       "      <th>연령대코드</th>\n",
       "      <th>이용건수</th>\n",
       "      <th>운동량</th>\n",
       "      <th>탄소량</th>\n",
       "      <th>이동거리(M)</th>\n",
       "      <th>이용시간(분)</th>\n",
       "    </tr>\n",
       "  </thead>\n",
       "  <tbody>\n",
       "    <tr>\n",
       "      <th>9</th>\n",
       "      <td>2021-01-01</td>\n",
       "      <td>102</td>\n",
       "      <td>102. 망원역 1번출구 앞</td>\n",
       "      <td>일일(회원)</td>\n",
       "      <td>F</td>\n",
       "      <td>AGE_002</td>\n",
       "      <td>1</td>\n",
       "      <td>0.000000</td>\n",
       "      <td>0.00</td>\n",
       "      <td>0.00</td>\n",
       "      <td>8</td>\n",
       "    </tr>\n",
       "    <tr>\n",
       "      <th>15</th>\n",
       "      <td>2021-01-01</td>\n",
       "      <td>102</td>\n",
       "      <td>102. 망원역 1번출구 앞</td>\n",
       "      <td>정기</td>\n",
       "      <td>F</td>\n",
       "      <td>AGE_002</td>\n",
       "      <td>1</td>\n",
       "      <td>0.000000</td>\n",
       "      <td>0.00</td>\n",
       "      <td>0.00</td>\n",
       "      <td>5</td>\n",
       "    </tr>\n",
       "    <tr>\n",
       "      <th>30</th>\n",
       "      <td>2021-01-01</td>\n",
       "      <td>103</td>\n",
       "      <td>103. 망원역 2번출구 앞</td>\n",
       "      <td>정기</td>\n",
       "      <td>F</td>\n",
       "      <td>AGE_002</td>\n",
       "      <td>1</td>\n",
       "      <td>311.709991</td>\n",
       "      <td>2.81</td>\n",
       "      <td>12110.00</td>\n",
       "      <td>59</td>\n",
       "    </tr>\n",
       "    <tr>\n",
       "      <th>47</th>\n",
       "      <td>2021-01-01</td>\n",
       "      <td>105</td>\n",
       "      <td>105. 합정역 5번출구 앞</td>\n",
       "      <td>정기</td>\n",
       "      <td>F</td>\n",
       "      <td>AGE_002</td>\n",
       "      <td>3</td>\n",
       "      <td>57.669998</td>\n",
       "      <td>0.58</td>\n",
       "      <td>2485.45</td>\n",
       "      <td>18</td>\n",
       "    </tr>\n",
       "    <tr>\n",
       "      <th>57</th>\n",
       "      <td>2021-01-01</td>\n",
       "      <td>106</td>\n",
       "      <td>106. 합정역 7번출구 앞</td>\n",
       "      <td>정기</td>\n",
       "      <td>F</td>\n",
       "      <td>AGE_002</td>\n",
       "      <td>1</td>\n",
       "      <td>75.989998</td>\n",
       "      <td>0.89</td>\n",
       "      <td>3837.85</td>\n",
       "      <td>26</td>\n",
       "    </tr>\n",
       "    <tr>\n",
       "      <th>...</th>\n",
       "      <td>...</td>\n",
       "      <td>...</td>\n",
       "      <td>...</td>\n",
       "      <td>...</td>\n",
       "      <td>...</td>\n",
       "      <td>...</td>\n",
       "      <td>...</td>\n",
       "      <td>...</td>\n",
       "      <td>...</td>\n",
       "      <td>...</td>\n",
       "      <td>...</td>\n",
       "    </tr>\n",
       "    <tr>\n",
       "      <th>474601</th>\n",
       "      <td>2021-01-31</td>\n",
       "      <td>3582</td>\n",
       "      <td>3582.화양동 우체국</td>\n",
       "      <td>정기</td>\n",
       "      <td>F</td>\n",
       "      <td>AGE_002</td>\n",
       "      <td>2</td>\n",
       "      <td>33.810001</td>\n",
       "      <td>0.32</td>\n",
       "      <td>1394.68</td>\n",
       "      <td>10</td>\n",
       "    </tr>\n",
       "    <tr>\n",
       "      <th>474608</th>\n",
       "      <td>2021-01-31</td>\n",
       "      <td>3586</td>\n",
       "      <td>3586.군자역 비채온 오피스텔</td>\n",
       "      <td>일일(회원)</td>\n",
       "      <td>F</td>\n",
       "      <td>AGE_002</td>\n",
       "      <td>1</td>\n",
       "      <td>91.730003</td>\n",
       "      <td>1.25</td>\n",
       "      <td>5386.86</td>\n",
       "      <td>43</td>\n",
       "    </tr>\n",
       "    <tr>\n",
       "      <th>474615</th>\n",
       "      <td>2021-01-31</td>\n",
       "      <td>3586</td>\n",
       "      <td>3586.군자역 비채온 오피스텔</td>\n",
       "      <td>정기</td>\n",
       "      <td>F</td>\n",
       "      <td>AGE_002</td>\n",
       "      <td>2</td>\n",
       "      <td>170.169998</td>\n",
       "      <td>1.53</td>\n",
       "      <td>6610.95</td>\n",
       "      <td>34</td>\n",
       "    </tr>\n",
       "    <tr>\n",
       "      <th>474622</th>\n",
       "      <td>2021-01-31</td>\n",
       "      <td>3587</td>\n",
       "      <td>3587.우성식품 앞</td>\n",
       "      <td>일일(회원)</td>\n",
       "      <td>F</td>\n",
       "      <td>AGE_002</td>\n",
       "      <td>1</td>\n",
       "      <td>76.900002</td>\n",
       "      <td>0.82</td>\n",
       "      <td>3530.67</td>\n",
       "      <td>43</td>\n",
       "    </tr>\n",
       "    <tr>\n",
       "      <th>474625</th>\n",
       "      <td>2021-01-31</td>\n",
       "      <td>3587</td>\n",
       "      <td>3587.우성식품 앞</td>\n",
       "      <td>정기</td>\n",
       "      <td>F</td>\n",
       "      <td>AGE_002</td>\n",
       "      <td>1</td>\n",
       "      <td>18.750000</td>\n",
       "      <td>0.17</td>\n",
       "      <td>728.60</td>\n",
       "      <td>4</td>\n",
       "    </tr>\n",
       "  </tbody>\n",
       "</table>\n",
       "<p>35276 rows × 11 columns</p>\n",
       "</div>"
      ],
      "text/plain": [
       "             대여일자  대여소번호                대여소  대여구분코드 성별    연령대코드  이용건수  \\\n",
       "9      2021-01-01    102    102. 망원역 1번출구 앞  일일(회원)  F  AGE_002     1   \n",
       "15     2021-01-01    102    102. 망원역 1번출구 앞      정기  F  AGE_002     1   \n",
       "30     2021-01-01    103    103. 망원역 2번출구 앞      정기  F  AGE_002     1   \n",
       "47     2021-01-01    105    105. 합정역 5번출구 앞      정기  F  AGE_002     3   \n",
       "57     2021-01-01    106    106. 합정역 7번출구 앞      정기  F  AGE_002     1   \n",
       "...           ...    ...                ...     ... ..      ...   ...   \n",
       "474601 2021-01-31   3582       3582.화양동 우체국      정기  F  AGE_002     2   \n",
       "474608 2021-01-31   3586  3586.군자역 비채온 오피스텔  일일(회원)  F  AGE_002     1   \n",
       "474615 2021-01-31   3586  3586.군자역 비채온 오피스텔      정기  F  AGE_002     2   \n",
       "474622 2021-01-31   3587        3587.우성식품 앞  일일(회원)  F  AGE_002     1   \n",
       "474625 2021-01-31   3587        3587.우성식품 앞      정기  F  AGE_002     1   \n",
       "\n",
       "               운동량   탄소량   이동거리(M)  이용시간(분)  \n",
       "9         0.000000  0.00      0.00        8  \n",
       "15        0.000000  0.00      0.00        5  \n",
       "30      311.709991  2.81  12110.00       59  \n",
       "47       57.669998  0.58   2485.45       18  \n",
       "57       75.989998  0.89   3837.85       26  \n",
       "...            ...   ...       ...      ...  \n",
       "474601   33.810001  0.32   1394.68       10  \n",
       "474608   91.730003  1.25   5386.86       43  \n",
       "474615  170.169998  1.53   6610.95       34  \n",
       "474622   76.900002  0.82   3530.67       43  \n",
       "474625   18.750000  0.17    728.60        4  \n",
       "\n",
       "[35276 rows x 11 columns]"
      ]
     },
     "execution_count": 52,
     "metadata": {},
     "output_type": "execute_result"
    }
   ],
   "source": [
    "# 4.2 .query 메소드로 여성, 성별 20대인 행을 추출한다. usage_w_20_q\n",
    "qs = \"성별=='F' and 연령대코드=='AGE_002'\"\n",
    "usage_w_20_q = bikeusage.query(qs)\n",
    "usage_w_20_q"
   ]
  },
  {
   "cell_type": "code",
   "execution_count": 27,
   "metadata": {},
   "outputs": [],
   "source": [
    "# 4.3  4.1과 4.2의 실행문을 속도 비교 해본다. \n",
    "# 각각 %%timeit을 사용하여 block으로 측정한다.  (% 가 2개)"
   ]
  },
  {
   "cell_type": "code",
   "execution_count": 56,
   "metadata": {},
   "outputs": [
    {
     "name": "stdout",
     "output_type": "stream",
     "text": [
      "6.31 ms ± 545 µs per loop (mean ± std. dev. of 7 runs, 100 loops each)\n"
     ]
    }
   ],
   "source": [
    "%%timeit \n",
    "bikeusage[(bikeusage['성별']=='F') & (bikeusage['연령대코드']=='AGE_002')]"
   ]
  },
  {
   "cell_type": "code",
   "execution_count": 57,
   "metadata": {},
   "outputs": [
    {
     "name": "stdout",
     "output_type": "stream",
     "text": [
      "22.1 ms ± 1.21 ms per loop (mean ± std. dev. of 7 runs, 10 loops each)\n"
     ]
    }
   ],
   "source": [
    "%%timeit \n",
    "qs = \"성별=='F' and 연령대코드=='AGE_002'\"\n",
    "bikeusage.query(qs)"
   ]
  },
  {
   "cell_type": "code",
   "execution_count": 62,
   "metadata": {},
   "outputs": [
    {
     "data": {
      "text/plain": [
       "2848.87"
      ]
     },
     "execution_count": 62,
     "metadata": {},
     "output_type": "execute_result"
    }
   ],
   "source": [
    "# 4.4 20대 여성, 평균 이동거리를 구하기 위해 이동거리 합계를 이용건수 합계로 나누어 구한다. \n",
    "\n",
    "(usage_w_20_q['이동거리(M)'].sum()/usage_w_20_q['이용건수'].sum()).round(2)"
   ]
  },
  {
   "cell_type": "markdown",
   "metadata": {},
   "source": [
    "## 5. bikeusage에서 적절히 데이터를 가공하고 .hist로 그래프를 작성하여 분포를 관찰한다. "
   ]
  },
  {
   "cell_type": "code",
   "execution_count": 64,
   "metadata": {},
   "outputs": [],
   "source": [
    "# 한글 폰트 사용을 위해서 세팅\n",
    "from matplotlib import font_manager, rc\n",
    "plt.rcParams['font.family'] = 'NanumGothic'"
   ]
  },
  {
   "cell_type": "code",
   "execution_count": 71,
   "metadata": {},
   "outputs": [
    {
     "data": {
      "image/png": "[encoded data removed]",
      "text/plain": [
       "<Figure size 432x288 with 1 Axes>"
      ]
     },
     "metadata": {
      "needs_background": "light"
     },
     "output_type": "display_data"
    }
   ],
   "source": [
    "# 5.1 이용건수의 분포  (그래프가 쏠림이 있다면, 불리언인덱싱으로 데이터범위를 조정한다.)\n",
    "bikeusage.loc[bikeusage['이용건수']<10,'이용건수'].hist();"
   ]
  },
  {
   "cell_type": "code",
   "execution_count": 72,
   "metadata": {
    "scrolled": true
   },
   "outputs": [
    {
     "data": {
      "text/html": [
       "<div>\n",
       "<style scoped>\n",
       "    .dataframe tbody tr th:only-of-type {\n",
       "        vertical-align: middle;\n",
       "    }\n",
       "\n",
       "    .dataframe tbody tr th {\n",
       "        vertical-align: top;\n",
       "    }\n",
       "\n",
       "    .dataframe thead th {\n",
       "        text-align: right;\n",
       "    }\n",
       "</style>\n",
       "<table border=\"1\" class=\"dataframe\">\n",
       "  <thead>\n",
       "    <tr style=\"text-align: right;\">\n",
       "      <th></th>\n",
       "      <th>대여소번호</th>\n",
       "      <th>이용건수</th>\n",
       "      <th>운동량</th>\n",
       "      <th>탄소량</th>\n",
       "      <th>이동거리(M)</th>\n",
       "      <th>이용시간(분)</th>\n",
       "      <th>평균이동거리</th>\n",
       "      <th>평균이용시간</th>\n",
       "    </tr>\n",
       "  </thead>\n",
       "  <tbody>\n",
       "    <tr>\n",
       "      <th>count</th>\n",
       "      <td>474631.000000</td>\n",
       "      <td>474631.000000</td>\n",
       "      <td>472387.000000</td>\n",
       "      <td>472387.000000</td>\n",
       "      <td>474631.000000</td>\n",
       "      <td>474631.000000</td>\n",
       "      <td>474631.000000</td>\n",
       "      <td>474631.000000</td>\n",
       "    </tr>\n",
       "    <tr>\n",
       "      <th>mean</th>\n",
       "      <td>1409.829944</td>\n",
       "      <td>1.669941</td>\n",
       "      <td>125.185997</td>\n",
       "      <td>1.081429</td>\n",
       "      <td>4639.316900</td>\n",
       "      <td>42.982490</td>\n",
       "      <td>2825.972508</td>\n",
       "      <td>26.076282</td>\n",
       "    </tr>\n",
       "    <tr>\n",
       "      <th>std</th>\n",
       "      <td>929.803462</td>\n",
       "      <td>1.315851</td>\n",
       "      <td>182.175781</td>\n",
       "      <td>1.564946</td>\n",
       "      <td>6737.240458</td>\n",
       "      <td>55.616423</td>\n",
       "      <td>3523.807737</td>\n",
       "      <td>26.372140</td>\n",
       "    </tr>\n",
       "    <tr>\n",
       "      <th>min</th>\n",
       "      <td>3.000000</td>\n",
       "      <td>1.000000</td>\n",
       "      <td>0.000000</td>\n",
       "      <td>0.000000</td>\n",
       "      <td>0.000000</td>\n",
       "      <td>0.000000</td>\n",
       "      <td>0.000000</td>\n",
       "      <td>0.000000</td>\n",
       "    </tr>\n",
       "    <tr>\n",
       "      <th>25%</th>\n",
       "      <td>621.000000</td>\n",
       "      <td>1.000000</td>\n",
       "      <td>28.760000</td>\n",
       "      <td>0.250000</td>\n",
       "      <td>1081.715000</td>\n",
       "      <td>11.000000</td>\n",
       "      <td>892.882500</td>\n",
       "      <td>9.000000</td>\n",
       "    </tr>\n",
       "    <tr>\n",
       "      <th>50%</th>\n",
       "      <td>1248.000000</td>\n",
       "      <td>1.000000</td>\n",
       "      <td>67.220001</td>\n",
       "      <td>0.590000</td>\n",
       "      <td>2513.140000</td>\n",
       "      <td>25.000000</td>\n",
       "      <td>1760.000000</td>\n",
       "      <td>17.000000</td>\n",
       "    </tr>\n",
       "    <tr>\n",
       "      <th>75%</th>\n",
       "      <td>2089.000000</td>\n",
       "      <td>2.000000</td>\n",
       "      <td>152.279999</td>\n",
       "      <td>1.320000</td>\n",
       "      <td>5670.505000</td>\n",
       "      <td>55.000000</td>\n",
       "      <td>3461.102500</td>\n",
       "      <td>34.500000</td>\n",
       "    </tr>\n",
       "    <tr>\n",
       "      <th>max</th>\n",
       "      <td>9999.000000</td>\n",
       "      <td>61.000000</td>\n",
       "      <td>11399.179688</td>\n",
       "      <td>107.470001</td>\n",
       "      <td>463301.420000</td>\n",
       "      <td>3906.000000</td>\n",
       "      <td>248420.000000</td>\n",
       "      <td>1007.000000</td>\n",
       "    </tr>\n",
       "  </tbody>\n",
       "</table>\n",
       "</div>"
      ],
      "text/plain": [
       "               대여소번호           이용건수            운동량            탄소량  \\\n",
       "count  474631.000000  474631.000000  472387.000000  472387.000000   \n",
       "mean     1409.829944       1.669941     125.185997       1.081429   \n",
       "std       929.803462       1.315851     182.175781       1.564946   \n",
       "min         3.000000       1.000000       0.000000       0.000000   \n",
       "25%       621.000000       1.000000      28.760000       0.250000   \n",
       "50%      1248.000000       1.000000      67.220001       0.590000   \n",
       "75%      2089.000000       2.000000     152.279999       1.320000   \n",
       "max      9999.000000      61.000000   11399.179688     107.470001   \n",
       "\n",
       "             이동거리(M)        이용시간(분)         평균이동거리         평균이용시간  \n",
       "count  474631.000000  474631.000000  474631.000000  474631.000000  \n",
       "mean     4639.316900      42.982490    2825.972508      26.076282  \n",
       "std      6737.240458      55.616423    3523.807737      26.372140  \n",
       "min         0.000000       0.000000       0.000000       0.000000  \n",
       "25%      1081.715000      11.000000     892.882500       9.000000  \n",
       "50%      2513.140000      25.000000    1760.000000      17.000000  \n",
       "75%      5670.505000      55.000000    3461.102500      34.500000  \n",
       "max    463301.420000    3906.000000  248420.000000    1007.000000  "
      ]
     },
     "execution_count": 72,
     "metadata": {},
     "output_type": "execute_result"
    }
   ],
   "source": [
    "# 5.2 평균이동거리 (=이동거리(M)/이용건수),  평균이용시간 (=이용시간(M)/이용건수) 컬럼을 생성한다. \n",
    "#   .describe() 로 데이터가 생성되었는지 확인한다.\n",
    "\n",
    "bikeusage['평균이동거리']=bikeusage['이동거리(M)']/bikeusage['이용건수']\n",
    "bikeusage['평균이용시간']=bikeusage['이용시간(분)']/bikeusage['이용건수']\n",
    "bikeusage.describe()"
   ]
  },
  {
   "cell_type": "code",
   "execution_count": null,
   "metadata": {},
   "outputs": [],
   "source": []
  },
  {
   "cell_type": "code",
   "execution_count": 76,
   "metadata": {
    "scrolled": true
   },
   "outputs": [
    {
     "data": {
      "image/png": "[encoded data removed]",
      "text/plain": [
       "<Figure size 432x288 with 1 Axes>"
      ]
     },
     "metadata": {
      "needs_background": "light"
     },
     "output_type": "display_data"
    }
   ],
   "source": [
    "# 5.3 평균이동거리와 평균이용시간의 분포를 히스토그램으로 관찰한다. 필요에 따라 적절한 범위를 선택한다. \n",
    "bikeusage.loc[bikeusage['평균이동거리']<10000,'평균이동거리'].hist();"
   ]
  },
  {
   "cell_type": "code",
   "execution_count": 77,
   "metadata": {},
   "outputs": [
    {
     "data": {
      "image/png": "[encoded data removed]",
      "text/plain": [
       "<Figure size 432x288 with 1 Axes>"
      ]
     },
     "metadata": {
      "needs_background": "light"
     },
     "output_type": "display_data"
    }
   ],
   "source": [
    "bikeusage.loc[bikeusage['평균이용시간']<200,'평균이용시간'].hist();"
   ]
  },
  {
   "cell_type": "markdown",
   "metadata": {},
   "source": [
    "## 6. Seaborn으로 다음의 그래프를 작성한다. "
   ]
  },
  {
   "cell_type": "code",
   "execution_count": 80,
   "metadata": {
    "scrolled": true
   },
   "outputs": [
    {
     "data": {
      "image/png": "[encoded data removed]",
      "text/plain": [
       "<Figure size 432x288 with 1 Axes>"
      ]
     },
     "metadata": {
      "needs_background": "light"
     },
     "output_type": "display_data"
    }
   ],
   "source": [
    "# 6.1 연령대코드별 사용량 (이용건수 합계로 구해야 하지만, 약식으로 countplot을 사용한다. 정확한 분포와는 차이가 있다. )\n",
    "sns.countplot(data=bikeusage, x = '연령대코드');"
   ]
  },
  {
   "cell_type": "code",
   "execution_count": 81,
   "metadata": {},
   "outputs": [
    {
     "data": {
      "image/png": "[encoded data removed]",
      "text/plain": [
       "<Figure size 432x288 with 1 Axes>"
      ]
     },
     "metadata": {
      "needs_background": "light"
     },
     "output_type": "display_data"
    }
   ],
   "source": [
    "# 6.2 성별 사용량 (이용건수 합계로 구해야 하지만, 약식으로 countplot을 사용한다. 정확한 분포와는 차이가 있다. )\n",
    "sns.countplot(data=bikeusage, x = '성별');"
   ]
  },
  {
   "cell_type": "code",
   "execution_count": 83,
   "metadata": {
    "scrolled": true
   },
   "outputs": [
    {
     "data": {
      "image/png": "[encoded data removed]",
      "text/plain": [
       "<Figure size 432x288 with 1 Axes>"
      ]
     },
     "metadata": {
      "needs_background": "light"
     },
     "output_type": "display_data"
    }
   ],
   "source": [
    "# 6.3 연령대별 성별 사용량 (둘 중 하나를 hue에 적용한다.   )\n",
    "sns.countplot(data=bikeusage, x = '연령대코드', hue = '성별');"
   ]
  },
  {
   "cell_type": "code",
   "execution_count": 84,
   "metadata": {},
   "outputs": [
    {
     "data": {
      "image/png": "[encoded data removed]",
      "text/plain": [
       "<Figure size 432x288 with 1 Axes>"
      ]
     },
     "metadata": {
      "needs_background": "light"
     },
     "output_type": "display_data"
    }
   ],
   "source": [
    "sns.countplot(data=bikeusage, x = '성별', hue = '연령대코드');"
   ]
  },
  {
   "cell_type": "code",
   "execution_count": 86,
   "metadata": {
    "scrolled": true
   },
   "outputs": [
    {
     "data": {
      "image/png": "[encoded data removed]",
      "text/plain": [
       "<Figure size 432x288 with 1 Axes>"
      ]
     },
     "metadata": {
      "needs_background": "light"
     },
     "output_type": "display_data"
    }
   ],
   "source": [
    "# 6.4 성별 평균이용시간 분포를 violin plot으로 표현한다. \n",
    "#   (이용시간 120분 초과한 값은 제외한다. bikeusage_120으로 저장해둔다.)\n",
    "bikeusage_120 = bikeusage[bikeusage['평균이용시간']<=120]\n",
    "sns.violinplot(x='평균이용시간', y = '성별', data=bikeusage_120);"
   ]
  },
  {
   "cell_type": "code",
   "execution_count": 88,
   "metadata": {
    "scrolled": true
   },
   "outputs": [
    {
     "data": {
      "image/png": "[encoded data removed]",
      "text/plain": [
       "<Figure size 432x288 with 1 Axes>"
      ]
     },
     "metadata": {
      "needs_background": "light"
     },
     "output_type": "display_data"
    }
   ],
   "source": [
    "# 6.5 연령대별 평균이용시간 분포를 violin plot으로 표현한다. (평균이용시간 120분 이하)\n",
    "bikeusage_120 = bikeusage[bikeusage['평균이용시간']<=120]\n",
    "sns.violinplot(x='연령대코드', y = '평균이용시간', data=bikeusage_120);"
   ]
  },
  {
   "cell_type": "code",
   "execution_count": 91,
   "metadata": {},
   "outputs": [],
   "source": [
    "# 6.6 연령대별 성별 평균이용시간을 catplot을 이용해서 표현한다. (평균이용시간 120분 이하)\n",
    "#  x축으로 분포가 보이는 violinplot으로 작성한다. \n",
    "#  컬럼방향으로 연령대를 배치 한다.  col_wrap=4 인수를 추가하여 4개의 열에서 줄바꿈 하도록 한다."
   ]
  },
  {
   "cell_type": "code",
   "execution_count": 90,
   "metadata": {},
   "outputs": [
    {
     "name": "stderr",
     "output_type": "stream",
     "text": [
      "C:\\Users\\duswn\\anaconda3\\lib\\site-packages\\matplotlib\\backends\\backend_agg.py:214: RuntimeWarning: Glyph 8722 missing from current font.\n",
      "  font.set_text(s, 0.0, flags=flags)\n",
      "C:\\Users\\duswn\\anaconda3\\lib\\site-packages\\matplotlib\\backends\\backend_agg.py:183: RuntimeWarning: Glyph 8722 missing from current font.\n",
      "  font.set_text(s, 0, flags=flags)\n"
     ]
    },
    {
     "data": {
      "image/png": "[encoded data removed]",
      "text/plain": [
       "<Figure size 1440x720 with 8 Axes>"
      ]
     },
     "metadata": {
      "needs_background": "light"
     },
     "output_type": "display_data"
    }
   ],
   "source": [
    "ax_array = sns.catplot(x = '평균이용시간', y ='성별', col = '연령대코드', col_wrap=4, kind = 'violin',data = bikeusage_120);"
   ]
  },
  {
   "cell_type": "code",
   "execution_count": null,
   "metadata": {},
   "outputs": [],
   "source": []
  }
 ],
 "metadata": {
  "kernelspec": {
   "display_name": "Python 3",
   "language": "python",
   "name": "python3"
  },
  "language_info": {
   "codemirror_mode": {
    "name": "ipython",
    "version": 3
   },
   "file_extension": ".py",
   "mimetype": "text/x-python",
   "name": "python",
   "nbconvert_exporter": "python",
   "pygments_lexer": "ipython3",
   "version": "3.8.3"
  }
 },
 "nbformat": 4,
 "nbformat_minor": 5
}
